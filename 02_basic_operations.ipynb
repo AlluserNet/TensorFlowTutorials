{
 "cells": [
  {
   "cell_type": "code",
   "execution_count": 1,
   "metadata": {
    "collapsed": true
   },
   "outputs": [],
   "source": [
    "# TensorFlow 라이브러리를 사용한 기본 연산 예제\n",
    "# 작성자: Aymeric Damien\n",
    "# 수정자: 정 경태\n",
    "# 프로젝트: https://github.com/aymericdamien/TensorFlow-Examples/"
   ]
  },
  {
   "cell_type": "code",
   "execution_count": 2,
   "metadata": {
    "collapsed": true
   },
   "outputs": [],
   "source": [
    "import tensorflow as tf"
   ]
  },
  {
   "cell_type": "code",
   "execution_count": 3,
   "metadata": {
    "collapsed": true
   },
   "outputs": [],
   "source": [
    "# 기본 상수 연산\n",
    "# 생성자가 반환 한 값은 상수 연산의 출력을 나타냅니다.\n",
    "a = tf.constant(2)\n",
    "b = tf.constant(3)"
   ]
  },
  {
   "cell_type": "code",
   "execution_count": 4,
   "metadata": {
    "collapsed": false
   },
   "outputs": [
    {
     "name": "stdout",
     "output_type": "stream",
     "text": [
      "a=2, b=3\n",
      "상수간 덧셈: 5\n",
      "상수간 곱셈: 6\n"
     ]
    }
   ],
   "source": [
    "# 세션 설정\n",
    "session_conf = tf.ConfigProto()\n",
    "session_conf.gpu_options.allow_growth = True\n",
    "\n",
    "# 기본 그래프를 실행\n",
    "with tf.Session(config=session_conf) as sess:\n",
    "    print(\"a=2, b=3\")\n",
    "    print(\"상수간 덧셈: %i\" % sess.run(a+b))\n",
    "    print(\"상수간 곱셈: %i\" % sess.run(a*b))"
   ]
  },
  {
   "cell_type": "code",
   "execution_count": 5,
   "metadata": {
    "collapsed": true
   },
   "outputs": [],
   "source": [
    "# 변수를 그래프(graph)의 입력으로 하는 기본 연산\n",
    "# 생성자가 반환 한 값은 변수 연산의 결과를 나타냅니다.\n",
    "# (세션을 실행할 때 입력으로 정의)\n",
    "# tf 그래프 입력\n",
    "a = tf.placeholder(tf.int16)\n",
    "b = tf.placeholder(tf.int16)"
   ]
  },
  {
   "cell_type": "code",
   "execution_count": 6,
   "metadata": {
    "collapsed": true
   },
   "outputs": [],
   "source": [
    "# 연산을 정의\n",
    "add = tf.add(a, b)\n",
    "mul = tf.mul(a, b)"
   ]
  },
  {
   "cell_type": "code",
   "execution_count": 7,
   "metadata": {
    "collapsed": false
   },
   "outputs": [
    {
     "name": "stdout",
     "output_type": "stream",
     "text": [
      "변수간 덧셈: 5\n",
      "변수간 곱셈: 6\n"
     ]
    }
   ],
   "source": [
    "# 기본 그래프를 실행\n",
    "with tf.Session() as sess:\n",
    "    # 모든 연산은 변수 입력을 받아서 실행\n",
    "    print(\"변수간 덧셈: %i\" % sess.run(add, feed_dict={a: 2, b: 3}))\n",
    "    print(\"변수간 곱셈: %i\" % sess.run(mul, feed_dict={a: 2, b: 3}))"
   ]
  },
  {
   "cell_type": "code",
   "execution_count": 8,
   "metadata": {
    "collapsed": true
   },
   "outputs": [],
   "source": [
    "# ----------------\n",
    "# 더 자세히 :\n",
    "# TensorFlow 공식 튜토리얼의 행렬 곱셈\n",
    "#\n",
    "# 1x2 행렬을 생성하는 상수 연산을 만듭니다.\n",
    "# 해당 연산을 기본 그래프의 노드에 추가합니다.\n",
    "#\n",
    "# 생성자가 반환 한 값은 상수 연산의 출력을 나타냅니다.\n",
    "matrix1 = tf.constant([[3., 3.]])"
   ]
  },
  {
   "cell_type": "code",
   "execution_count": 9,
   "metadata": {
    "collapsed": true
   },
   "outputs": [],
   "source": [
    "# 2x1 행렬을 생성하는 다른 상수를 만듭니다.\n",
    "matrix2 = tf.constant([[2.],[2.]])"
   ]
  },
  {
   "cell_type": "code",
   "execution_count": 10,
   "metadata": {
    "collapsed": true
   },
   "outputs": [],
   "source": [
    "# 'matrix1'과 'matrix2'를 입력으로 사용하는 Matmul 연산을 만듭니다.\n",
    "# 반환 값 'product'는 행렬 곱셈의 결과를 나타냅니다.\n",
    "product = tf.matmul(matrix1, matrix2)"
   ]
  },
  {
   "cell_type": "code",
   "execution_count": 11,
   "metadata": {
    "collapsed": false
   },
   "outputs": [
    {
     "name": "stdout",
     "output_type": "stream",
     "text": [
      "[[ 12.]]\n"
     ]
    }
   ],
   "source": [
    "# matmul 연산을 실행하기 위해서 우리는 'run ()'메서드를 호출하고 matmul 연산의 결과를 나타내는 'product'를 전달합니다.\n",
    "# 이것은 우리가 matmul 연산의 결과를 얻고 싶어한다는 것을 나타냅니다.\n",
    "#\n",
    "# 연산이 필요로하는 모든 입력은 세션에 의해 자동으로 실행됩니다. 일반적으로 병렬로 실행됩니다.\n",
    "#\n",
    "# 'run (product)'호출은 그래프에서 3 개의 연산을 실행합니다 : 두 개의 상수와 matmul.\n",
    "#\n",
    "# 연산 결과는 numpy의 'ndarray'객체 처럼 'result'에 반환됩니다.\n",
    "with tf.Session() as sess:\n",
    "    result = sess.run(product)\n",
    "    print(result)"
   ]
  },
  {
   "cell_type": "code",
   "execution_count": null,
   "metadata": {
    "collapsed": true
   },
   "outputs": [],
   "source": []
  }
 ],
 "metadata": {
  "kernelspec": {
   "display_name": "Python 3",
   "language": "python",
   "name": "python3"
  },
  "language_info": {
   "codemirror_mode": {
    "name": "ipython",
    "version": 3
   },
   "file_extension": ".py",
   "mimetype": "text/x-python",
   "name": "python",
   "nbconvert_exporter": "python",
   "pygments_lexer": "ipython3",
   "version": "3.5.2"
  }
 },
 "nbformat": 4,
 "nbformat_minor": 0
}
