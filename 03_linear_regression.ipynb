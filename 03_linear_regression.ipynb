{
 "cells": [
  {
   "cell_type": "code",
   "execution_count": 1,
   "metadata": {
    "collapsed": false
   },
   "outputs": [],
   "source": [
    "# TensorFlow 라이브러리를 사용한 선형 회귀 학습 알고리즘의 예.\n",
    "\n",
    "# 작성자: Aymeric Damien\n",
    "# 수정자: 정 경태\n",
    "# Project: https://github.com/aymericdamien/TensorFlow-Examples/"
   ]
  },
  {
   "cell_type": "code",
   "execution_count": 2,
   "metadata": {
    "collapsed": true
   },
   "outputs": [],
   "source": [
    "import tensorflow as tf\n",
    "import numpy\n",
    "import matplotlib.pyplot as plt\n",
    "rng = numpy.random"
   ]
  },
  {
   "cell_type": "code",
   "execution_count": 3,
   "metadata": {
    "collapsed": true
   },
   "outputs": [],
   "source": [
    "# 파라메터(Parameters)\n",
    "learning_rate = 0.01\n",
    "training_epochs = 1000\n",
    "display_step = 50"
   ]
  },
  {
   "cell_type": "code",
   "execution_count": 4,
   "metadata": {
    "collapsed": false
   },
   "outputs": [],
   "source": [
    "# 훈련 데이터\n",
    "train_X = numpy.asarray([1., 2., 3., 4., 5.])\n",
    "train_Y = numpy.asarray([3., 5., 7., 9., 11.])\n",
    "# train_X = numpy.asarray([3.3,4.4,5.5,6.71,6.93,4.168,9.779,6.182,7.59,2.167,\n",
    "#                          7.042,10.791,5.313,7.997,5.654,9.27,3.1])\n",
    "# train_Y = numpy.asarray([1.7,2.76,2.09,3.19,1.694,1.573,3.366,2.596,2.53,1.221,\n",
    "#                          2.827,3.465,1.65,2.904,2.42,2.94,1.3])\n",
    "\n",
    "n_samples = train_X.shape[0]"
   ]
  },
  {
   "cell_type": "code",
   "execution_count": 5,
   "metadata": {
    "collapsed": true
   },
   "outputs": [],
   "source": [
    "# tf 그래프(Graph) 입력\n",
    "X = tf.placeholder(\"float\")\n",
    "Y = tf.placeholder(\"float\")\n",
    "\n",
    "# 모델 가중치(weights) 설정\n",
    "W = tf.Variable(rng.randn(), name=\"weight\")\n",
    "b = tf.Variable(rng.randn(), name=\"bias\")"
   ]
  },
  {
   "cell_type": "code",
   "execution_count": 6,
   "metadata": {
    "collapsed": true
   },
   "outputs": [],
   "source": [
    "# 선형 모델 생성\n",
    "pred = tf.add(tf.mul(X, W), b)"
   ]
  },
  {
   "cell_type": "code",
   "execution_count": 7,
   "metadata": {
    "collapsed": true
   },
   "outputs": [],
   "source": [
    "# 평균 제곱 오차\n",
    "cost = tf.reduce_sum(tf.pow(pred-Y, 2))/(2*n_samples)\n",
    "# Gradient descent\n",
    "optimizer = tf.train.GradientDescentOptimizer(learning_rate).minimize(cost)"
   ]
  },
  {
   "cell_type": "code",
   "execution_count": 8,
   "metadata": {
    "collapsed": true
   },
   "outputs": [],
   "source": [
    "# 변수 초기화\n",
    "init = tf.initialize_all_variables()"
   ]
  },
  {
   "cell_type": "code",
   "execution_count": 9,
   "metadata": {
    "collapsed": false
   },
   "outputs": [
    {
     "name": "stdout",
     "output_type": "stream",
     "text": [
      "Epoch: 0050 cost= 0.020101925 W= 2.12668 b= 0.529913\n",
      "Epoch: 0100 cost= 0.016914533 W= 2.11772 b= 0.568654\n",
      "Epoch: 0150 cost= 0.014266794 W= 2.10812 b= 0.603851\n",
      "Epoch: 0200 cost= 0.012033547 W= 2.0993 b= 0.636175\n",
      "Epoch: 0250 cost= 0.010149950 W= 2.0912 b= 0.665861\n",
      "Epoch: 0300 cost= 0.008561155 W= 2.08376 b= 0.693124\n",
      "Epoch: 0350 cost= 0.007221073 W= 2.07692 b= 0.718164\n",
      "Epoch: 0400 cost= 0.006090780 W= 2.07065 b= 0.74116\n",
      "Epoch: 0450 cost= 0.005137363 W= 2.06488 b= 0.76228\n",
      "Epoch: 0500 cost= 0.004333228 W= 2.05959 b= 0.781676\n",
      "Epoch: 0550 cost= 0.003654943 W= 2.05473 b= 0.79949\n",
      "Epoch: 0600 cost= 0.003082814 W= 2.05026 b= 0.815851\n",
      "Epoch: 0650 cost= 0.002600290 W= 2.04616 b= 0.830876\n",
      "Epoch: 0700 cost= 0.002193254 W= 2.04239 b= 0.844675\n",
      "Epoch: 0750 cost= 0.001849939 W= 2.03893 b= 0.857349\n",
      "Epoch: 0800 cost= 0.001560392 W= 2.03576 b= 0.868988\n",
      "Epoch: 0850 cost= 0.001316150 W= 2.03284 b= 0.879677\n",
      "Epoch: 0900 cost= 0.001110129 W= 2.03016 b= 0.889495\n",
      "Epoch: 0950 cost= 0.000936363 W= 2.0277 b= 0.898512\n",
      "Epoch: 1000 cost= 0.000789769 W= 2.02544 b= 0.906793\n",
      "최적화 종료됨!\n",
      "Training cost= 0.000789769 W= 2.02544 b= 0.906793 \n",
      "\n"
     ]
    },
    {
     "data": {
      "image/png": "[encoded data removed]",
      "text/plain": [
       "<matplotlib.figure.Figure at 0x7fd9742ca748>"
      ]
     },
     "metadata": {},
     "output_type": "display_data"
    }
   ],
   "source": [
    "# 세션 설정\n",
    "session_conf = tf.ConfigProto()\n",
    "session_conf.gpu_options.allow_growth = True\n",
    "\n",
    "# 그래프 실행\n",
    "with tf.Session(config=session_conf) as sess:\n",
    "    sess.run(init)\n",
    "\n",
    "    # 모든 훈련 데이터에 피팅(fit)\n",
    "    for epoch in range(training_epochs):\n",
    "        for (x, y) in zip(train_X, train_Y):\n",
    "            sess.run(optimizer, feed_dict={X: x, Y: y})\n",
    "\n",
    "        # 매 epoch 스텝 마다 화면에 로그 출력\n",
    "        if (epoch+1) % display_step == 0:\n",
    "            c = sess.run(cost, feed_dict={X: train_X, Y:train_Y})\n",
    "            print(\"Epoch:\", '%04d' % (epoch+1), \"cost=\", \"{:.9f}\".format(c), \\\n",
    "                \"W=\", sess.run(W), \"b=\", sess.run(b))\n",
    "\n",
    "    print(\"최적화 종료됨!\")\n",
    "    training_cost = sess.run(cost, feed_dict={X: train_X, Y: train_Y})\n",
    "    print(\"Training cost=\", training_cost, \"W=\", sess.run(W), \"b=\", sess.run(b), '\\n')\n",
    "\n",
    "    # 그래프 출력\n",
    "    plt.plot(train_X, train_Y, 'ro', label='Original data')\n",
    "    plt.plot(train_X, sess.run(W) * train_X + sess.run(b), label='Fitted line')\n",
    "    plt.legend()\n",
    "    plt.show()"
   ]
  },
  {
   "cell_type": "code",
   "execution_count": 10,
   "metadata": {
    "collapsed": false
   },
   "outputs": [],
   "source": [
    "# Regression result"
   ]
  }
 ],
 "metadata": {
  "kernelspec": {
   "display_name": "Python 3",
   "language": "python",
   "name": "python3"
  },
  "language_info": {
   "codemirror_mode": {
    "name": "ipython",
    "version": 3
   },
   "file_extension": ".py",
   "mimetype": "text/x-python",
   "name": "python",
   "nbconvert_exporter": "python",
   "pygments_lexer": "ipython3",
   "version": "3.5.2"
  }
 },
 "nbformat": 4,
 "nbformat_minor": 0
}
