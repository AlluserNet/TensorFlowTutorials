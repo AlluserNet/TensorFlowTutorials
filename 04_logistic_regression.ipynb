{
 "cells": [
  {
   "cell_type": "code",
   "execution_count": 1,
   "metadata": {
    "collapsed": true
   },
   "outputs": [],
   "source": [
    "# TensorFlow 라이브러리를 사용한 로지스틱(logistic) 회귀 학습 알고리즘 예제.\n",
    "# 이 예제는 손으로 쓴 숫자들을 모와 둔 MNIST 데이터베이스를 사용하고 있습니다.\n",
    "# (http://yann.lecun.com/exdb/mnist/)\n",
    "\n",
    "# 작성자: Aymeric Damien\n",
    "# 수정자: 정 경태\n",
    "# Project: https://github.com/aymericdamien/TensorFlow-Examples/"
   ]
  },
  {
   "cell_type": "code",
   "execution_count": 2,
   "metadata": {
    "collapsed": false
   },
   "outputs": [
    {
     "name": "stdout",
     "output_type": "stream",
     "text": [
      "Extracting /tmp/data/train-images-idx3-ubyte.gz\n",
      "Extracting /tmp/data/train-labels-idx1-ubyte.gz\n",
      "Extracting /tmp/data/t10k-images-idx3-ubyte.gz\n",
      "Extracting /tmp/data/t10k-labels-idx1-ubyte.gz\n"
     ]
    }
   ],
   "source": [
    "import tensorflow as tf\n",
    "\n",
    "# MINST 데이터 가져오기\n",
    "from tensorflow.examples.tutorials.mnist import input_data\n",
    "mnist = input_data.read_data_sets(\"/tmp/data/\", one_hot=True)"
   ]
  },
  {
   "cell_type": "code",
   "execution_count": 3,
   "metadata": {
    "collapsed": true
   },
   "outputs": [],
   "source": [
    "# 파라메터(Parameters)\n",
    "learning_rate = 0.01\n",
    "training_epochs = 25\n",
    "batch_size = 100\n",
    "display_step = 1\n",
    "\n",
    "# tf 그래프(Graph) 입력\n",
    "x = tf.placeholder(tf.float32, [None, 784]) # mnist 데이터 이미지의 모양 28*28=784\n",
    "y = tf.placeholder(tf.float32, [None, 10]) # 0-9 숫자 인식 => 10개의 클래스\n",
    "\n",
    "# 모델 가중치(weights) 설정\n",
    "W = tf.Variable(tf.zeros([784, 10]))\n",
    "b = tf.Variable(tf.zeros([10]))\n",
    "\n",
    "# 모델 생성\n",
    "pred = tf.nn.softmax(tf.matmul(x, W) + b) # Softmax\n",
    "\n",
    "# cross entropy를 사용하여 오차 최소화\n",
    "cost = tf.reduce_mean(-tf.reduce_sum(y*tf.log(pred), reduction_indices=1))\n",
    "# Gradient Descent\n",
    "optimizer = tf.train.GradientDescentOptimizer(learning_rate).minimize(cost)\n",
    "\n",
    "# 변수 초기화\n",
    "init = tf.initialize_all_variables()"
   ]
  },
  {
   "cell_type": "code",
   "execution_count": 4,
   "metadata": {
    "collapsed": false
   },
   "outputs": [
    {
     "name": "stdout",
     "output_type": "stream",
     "text": [
      "Epoch: 0001 cost= 1.182138959\n",
      "Epoch: 0002 cost= 0.664676313\n",
      "Epoch: 0003 cost= 0.552615891\n",
      "Epoch: 0004 cost= 0.498498187\n",
      "Epoch: 0005 cost= 0.465382012\n",
      "Epoch: 0006 cost= 0.442506012\n",
      "Epoch: 0007 cost= 0.425471498\n",
      "Epoch: 0008 cost= 0.412141608\n",
      "Epoch: 0009 cost= 0.401393791\n",
      "Epoch: 0010 cost= 0.392347149\n",
      "Epoch: 0011 cost= 0.384740977\n",
      "Epoch: 0012 cost= 0.378183336\n",
      "Epoch: 0013 cost= 0.372346547\n",
      "Epoch: 0014 cost= 0.367321105\n",
      "Epoch: 0015 cost= 0.362681844\n",
      "Epoch: 0016 cost= 0.358586677\n",
      "Epoch: 0017 cost= 0.354858560\n",
      "Epoch: 0018 cost= 0.351433118\n",
      "Epoch: 0019 cost= 0.348255854\n",
      "Epoch: 0020 cost= 0.345420631\n",
      "Epoch: 0021 cost= 0.342724610\n",
      "Epoch: 0022 cost= 0.340261692\n",
      "Epoch: 0023 cost= 0.337929566\n",
      "Epoch: 0024 cost= 0.335736330\n",
      "Epoch: 0025 cost= 0.333697108\n",
      "최적화 종료됨!\n",
      "Accuracy: 0.888333\n"
     ]
    }
   ],
   "source": [
    "# 세션 설정\n",
    "session_conf = tf.ConfigProto()\n",
    "session_conf.gpu_options.allow_growth = True\n",
    "\n",
    "# 그래프 실행\n",
    "with tf.Session(config=session_conf) as sess:\n",
    "    sess.run(init)\n",
    "\n",
    "    # 훈련 주기\n",
    "    for epoch in range(training_epochs):\n",
    "        avg_cost = 0.\n",
    "        total_batch = int(mnist.train.num_examples/batch_size)\n",
    "        # 모든 배치 반복\n",
    "        for i in range(total_batch):\n",
    "            batch_xs, batch_ys = mnist.train.next_batch(batch_size)\n",
    "            # 배치 데이터를 사용하여 피팅(fit) 훈련\n",
    "            _, c = sess.run([optimizer, cost], feed_dict={x: batch_xs,\n",
    "                                                          y: batch_ys})\n",
    "            # 평균 손실 계산\n",
    "            avg_cost += c / total_batch\n",
    "        # 매 epoch 스텝 마다 화면에 로그 출력\n",
    "        if (epoch+1) % display_step == 0:\n",
    "            print(\"Epoch:\", '%04d' % (epoch+1), \"cost=\", \"{:.9f}\".format(avg_cost))\n",
    "\n",
    "    print(\"최적화 종료됨!\")\n",
    "\n",
    "    # 테스트 모델\n",
    "    correct_prediction = tf.equal(tf.argmax(pred, 1), tf.argmax(y, 1))\n",
    "    # 3000 가지 예제에 대한 정확도 계산\n",
    "    accuracy = tf.reduce_mean(tf.cast(correct_prediction, tf.float32))\n",
    "    print(\"Accuracy:\", accuracy.eval({x: mnist.test.images[:3000], y: mnist.test.labels[:3000]}))"
   ]
  }
 ],
 "metadata": {
  "kernelspec": {
   "display_name": "Python 3",
   "language": "python",
   "name": "python3"
  },
  "language_info": {
   "codemirror_mode": {
    "name": "ipython",
    "version": 3
   },
   "file_extension": ".py",
   "mimetype": "text/x-python",
   "name": "python",
   "nbconvert_exporter": "python",
   "pygments_lexer": "ipython3",
   "version": "3.5.2"
  }
 },
 "nbformat": 4,
 "nbformat_minor": 0
}
