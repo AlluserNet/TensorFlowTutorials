{
 "cells": [
  {
   "cell_type": "code",
   "execution_count": 1,
   "metadata": {
    "collapsed": true
   },
   "outputs": [],
   "source": [
    "# Recurrent Neural Network\n",
    "import numpy as np\n",
    "import tensorflow as tf"
   ]
  },
  {
   "cell_type": "code",
   "execution_count": 2,
   "metadata": {
    "collapsed": false
   },
   "outputs": [
    {
     "name": "stdout",
     "output_type": "stream",
     "text": [
      "['h', 'e', 'l', 'o']\n"
     ]
    }
   ],
   "source": [
    "char_rdic = list('helo')  # id -> char\n",
    "print(char_rdic)"
   ]
  },
  {
   "cell_type": "code",
   "execution_count": 3,
   "metadata": {
    "collapsed": false
   },
   "outputs": [
    {
     "name": "stdout",
     "output_type": "stream",
     "text": [
      "{'l': 2, 'e': 1, 'h': 0, 'o': 3}\n"
     ]
    }
   ],
   "source": [
    "char_dic = {w: i for i, w in enumerate(char_rdic)}  # char -> id\n",
    "print(char_dic)"
   ]
  },
  {
   "cell_type": "code",
   "execution_count": 4,
   "metadata": {
    "collapsed": false
   },
   "outputs": [
    {
     "name": "stdout",
     "output_type": "stream",
     "text": [
      "[0, 1, 2, 2, 3]\n"
     ]
    }
   ],
   "source": [
    "x_data = np.array([\n",
    "    [1, 0, 0, 0],  # h\n",
    "    [0, 1, 0, 0],  # e\n",
    "    [0, 0, 1, 0],  # l\n",
    "    [0, 0, 1, 0],  # l\n",
    "],\n",
    "    dtype='f')\n",
    "\n",
    "sample = [char_dic[c] for c in \"hello\"]  # to index\n",
    "print(sample)"
   ]
  },
  {
   "cell_type": "code",
   "execution_count": 5,
   "metadata": {
    "collapsed": true
   },
   "outputs": [],
   "source": [
    "# 설정\n",
    "char_vocab_size = len(char_dic)\n",
    "rnn_size = char_vocab_size  # 1 hot coding (one of 4)\n",
    "time_step_size = 4  # 'hell' -> predict 'ello'\n",
    "batch_size = 1  # one sample"
   ]
  },
  {
   "cell_type": "code",
   "execution_count": 6,
   "metadata": {
    "collapsed": true
   },
   "outputs": [],
   "source": [
    "# RNN 모델\n",
    "rnn_cell = tf.nn.rnn_cell.BasicRNNCell(rnn_size)\n",
    "state = tf.zeros([batch_size, rnn_cell.state_size])\n",
    "X_split = tf.split(0, time_step_size, x_data)\n",
    "outputs, state = tf.nn.rnn(rnn_cell, X_split, state)"
   ]
  },
  {
   "cell_type": "code",
   "execution_count": 7,
   "metadata": {
    "collapsed": true
   },
   "outputs": [],
   "source": [
    "# logits: list of 2D Tensors of shape [batch_size x num_decoder_symbols]\n",
    "# targets: list of 1D batch-sized int32 Tensors of the same length as logits.\n",
    "# weights: list of 1D batch-sized float-Tensors of the same length as logits.\n",
    "logits = tf.reshape(tf.concat(1, outputs), [-1, rnn_size])\n",
    "targets = tf.reshape(sample[1:], [-1])\n",
    "weights = tf.ones([time_step_size * batch_size])\n",
    "\n",
    "loss = tf.nn.seq2seq.sequence_loss_by_example([logits], [targets], [weights])\n",
    "cost = tf.reduce_sum(loss) / batch_size\n",
    "train_op = tf.train.RMSPropOptimizer(0.01, 0.9).minimize(cost)\n",
    "\n",
    "# 변수 초기화\n",
    "init = tf.initialize_all_variables()"
   ]
  },
  {
   "cell_type": "code",
   "execution_count": 8,
   "metadata": {
    "collapsed": false
   },
   "outputs": [
    {
     "name": "stdout",
     "output_type": "stream",
     "text": [
      "array([1, 1, 2, 3]), ['e', 'e', 'l', 'o']\n",
      "array([1, 1, 2, 3]), ['e', 'e', 'l', 'o']\n",
      "array([1, 1, 2, 3]), ['e', 'e', 'l', 'o']\n",
      "array([1, 1, 2, 3]), ['e', 'e', 'l', 'o']\n",
      "array([1, 1, 2, 3]), ['e', 'e', 'l', 'o']\n",
      "array([1, 1, 2, 3]), ['e', 'e', 'l', 'o']\n",
      "array([1, 1, 2, 3]), ['e', 'e', 'l', 'o']\n",
      "array([1, 1, 2, 3]), ['e', 'e', 'l', 'o']\n",
      "array([1, 1, 2, 3]), ['e', 'e', 'l', 'o']\n",
      "array([1, 1, 2, 3]), ['e', 'e', 'l', 'o']\n",
      "array([1, 1, 2, 3]), ['e', 'e', 'l', 'o']\n",
      "array([1, 1, 2, 3]), ['e', 'e', 'l', 'o']\n",
      "array([1, 2, 2, 3]), ['e', 'l', 'l', 'o']\n",
      "array([1, 2, 2, 3]), ['e', 'l', 'l', 'o']\n",
      "array([1, 2, 2, 3]), ['e', 'l', 'l', 'o']\n",
      "array([1, 2, 2, 3]), ['e', 'l', 'l', 'o']\n",
      "array([1, 2, 2, 3]), ['e', 'l', 'l', 'o']\n",
      "array([1, 2, 2, 3]), ['e', 'l', 'l', 'o']\n",
      "array([1, 2, 2, 3]), ['e', 'l', 'l', 'o']\n",
      "array([1, 2, 2, 3]), ['e', 'l', 'l', 'o']\n",
      "array([1, 2, 2, 3]), ['e', 'l', 'l', 'o']\n",
      "array([1, 2, 2, 3]), ['e', 'l', 'l', 'o']\n",
      "array([1, 2, 2, 3]), ['e', 'l', 'l', 'o']\n",
      "array([1, 2, 2, 3]), ['e', 'l', 'l', 'o']\n",
      "array([1, 2, 2, 3]), ['e', 'l', 'l', 'o']\n",
      "array([1, 2, 2, 3]), ['e', 'l', 'l', 'o']\n",
      "array([1, 2, 2, 3]), ['e', 'l', 'l', 'o']\n",
      "array([1, 2, 2, 3]), ['e', 'l', 'l', 'o']\n",
      "array([1, 2, 2, 3]), ['e', 'l', 'l', 'o']\n",
      "array([1, 2, 2, 3]), ['e', 'l', 'l', 'o']\n",
      "array([1, 2, 2, 3]), ['e', 'l', 'l', 'o']\n",
      "array([1, 2, 2, 3]), ['e', 'l', 'l', 'o']\n",
      "array([1, 2, 2, 3]), ['e', 'l', 'l', 'o']\n",
      "array([1, 2, 2, 3]), ['e', 'l', 'l', 'o']\n",
      "array([1, 2, 2, 3]), ['e', 'l', 'l', 'o']\n",
      "array([1, 2, 2, 3]), ['e', 'l', 'l', 'o']\n",
      "array([1, 2, 2, 3]), ['e', 'l', 'l', 'o']\n",
      "array([1, 2, 2, 3]), ['e', 'l', 'l', 'o']\n",
      "array([1, 2, 2, 3]), ['e', 'l', 'l', 'o']\n",
      "array([1, 2, 2, 3]), ['e', 'l', 'l', 'o']\n",
      "array([1, 2, 2, 3]), ['e', 'l', 'l', 'o']\n",
      "array([1, 2, 2, 3]), ['e', 'l', 'l', 'o']\n",
      "array([1, 2, 2, 3]), ['e', 'l', 'l', 'o']\n",
      "array([1, 2, 2, 3]), ['e', 'l', 'l', 'o']\n",
      "array([1, 2, 2, 3]), ['e', 'l', 'l', 'o']\n",
      "array([1, 2, 2, 3]), ['e', 'l', 'l', 'o']\n",
      "array([1, 2, 2, 3]), ['e', 'l', 'l', 'o']\n",
      "array([1, 2, 2, 3]), ['e', 'l', 'l', 'o']\n",
      "array([1, 2, 2, 3]), ['e', 'l', 'l', 'o']\n",
      "array([1, 2, 2, 3]), ['e', 'l', 'l', 'o']\n",
      "array([1, 2, 2, 3]), ['e', 'l', 'l', 'o']\n",
      "array([1, 2, 2, 3]), ['e', 'l', 'l', 'o']\n",
      "array([1, 2, 2, 3]), ['e', 'l', 'l', 'o']\n",
      "array([1, 2, 2, 3]), ['e', 'l', 'l', 'o']\n",
      "array([1, 2, 2, 3]), ['e', 'l', 'l', 'o']\n",
      "array([1, 2, 2, 3]), ['e', 'l', 'l', 'o']\n",
      "array([1, 2, 2, 3]), ['e', 'l', 'l', 'o']\n",
      "array([1, 2, 2, 3]), ['e', 'l', 'l', 'o']\n",
      "array([1, 2, 2, 3]), ['e', 'l', 'l', 'o']\n",
      "array([1, 2, 2, 3]), ['e', 'l', 'l', 'o']\n",
      "array([1, 2, 2, 3]), ['e', 'l', 'l', 'o']\n",
      "array([1, 2, 2, 3]), ['e', 'l', 'l', 'o']\n",
      "array([1, 2, 2, 3]), ['e', 'l', 'l', 'o']\n",
      "array([1, 2, 2, 3]), ['e', 'l', 'l', 'o']\n",
      "array([1, 2, 2, 3]), ['e', 'l', 'l', 'o']\n",
      "array([1, 2, 2, 3]), ['e', 'l', 'l', 'o']\n",
      "array([1, 2, 2, 3]), ['e', 'l', 'l', 'o']\n",
      "array([1, 2, 2, 3]), ['e', 'l', 'l', 'o']\n",
      "array([1, 2, 2, 3]), ['e', 'l', 'l', 'o']\n",
      "array([1, 2, 2, 3]), ['e', 'l', 'l', 'o']\n",
      "array([1, 2, 2, 3]), ['e', 'l', 'l', 'o']\n",
      "array([1, 2, 2, 3]), ['e', 'l', 'l', 'o']\n",
      "array([1, 2, 2, 3]), ['e', 'l', 'l', 'o']\n",
      "array([1, 2, 2, 3]), ['e', 'l', 'l', 'o']\n",
      "array([1, 2, 2, 3]), ['e', 'l', 'l', 'o']\n",
      "array([1, 2, 2, 3]), ['e', 'l', 'l', 'o']\n",
      "array([1, 2, 2, 3]), ['e', 'l', 'l', 'o']\n",
      "array([1, 2, 2, 3]), ['e', 'l', 'l', 'o']\n",
      "array([1, 2, 2, 3]), ['e', 'l', 'l', 'o']\n",
      "array([1, 2, 2, 3]), ['e', 'l', 'l', 'o']\n",
      "array([1, 2, 2, 3]), ['e', 'l', 'l', 'o']\n",
      "array([1, 2, 2, 3]), ['e', 'l', 'l', 'o']\n",
      "array([1, 2, 2, 3]), ['e', 'l', 'l', 'o']\n",
      "array([1, 2, 2, 3]), ['e', 'l', 'l', 'o']\n",
      "array([1, 2, 2, 3]), ['e', 'l', 'l', 'o']\n",
      "array([1, 2, 2, 3]), ['e', 'l', 'l', 'o']\n",
      "array([1, 2, 2, 3]), ['e', 'l', 'l', 'o']\n",
      "array([1, 2, 2, 3]), ['e', 'l', 'l', 'o']\n",
      "array([1, 2, 2, 3]), ['e', 'l', 'l', 'o']\n",
      "array([1, 2, 2, 3]), ['e', 'l', 'l', 'o']\n",
      "array([1, 2, 2, 3]), ['e', 'l', 'l', 'o']\n",
      "array([1, 2, 2, 3]), ['e', 'l', 'l', 'o']\n",
      "array([1, 2, 2, 3]), ['e', 'l', 'l', 'o']\n",
      "array([1, 2, 2, 3]), ['e', 'l', 'l', 'o']\n",
      "array([1, 2, 2, 3]), ['e', 'l', 'l', 'o']\n",
      "array([1, 2, 2, 3]), ['e', 'l', 'l', 'o']\n",
      "array([1, 2, 2, 3]), ['e', 'l', 'l', 'o']\n",
      "array([1, 2, 2, 3]), ['e', 'l', 'l', 'o']\n",
      "array([1, 2, 2, 3]), ['e', 'l', 'l', 'o']\n",
      "array([1, 2, 2, 3]), ['e', 'l', 'l', 'o']\n"
     ]
    }
   ],
   "source": [
    "# 세션 설정\n",
    "session_conf = tf.ConfigProto()\n",
    "session_conf.gpu_options.allow_growth = True\n",
    "\n",
    "# 그래프 실행\n",
    "with tf.Session(config=session_conf) as sess:\n",
    "    sess.run(init)\n",
    "    \n",
    "    for i in range(100):\n",
    "        sess.run(train_op)\n",
    "        result = sess.run(tf.arg_max(logits, 1))\n",
    "        print(\"%r, %r\" % (result, [char_rdic[t] for t in result]))"
   ]
  }
 ],
 "metadata": {
  "kernelspec": {
   "display_name": "Python 3",
   "language": "python",
   "name": "python3"
  },
  "language_info": {
   "codemirror_mode": {
    "name": "ipython",
    "version": 3
   },
   "file_extension": ".py",
   "mimetype": "text/x-python",
   "name": "python",
   "nbconvert_exporter": "python",
   "pygments_lexer": "ipython3",
   "version": "3.5.2"
  }
 },
 "nbformat": 4,
 "nbformat_minor": 1
}
