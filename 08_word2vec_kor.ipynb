{
 "cells": [
  {
   "cell_type": "code",
   "execution_count": 21,
   "metadata": {
    "collapsed": false
   },
   "outputs": [],
   "source": [
    "# Inspired by https://www.tensorflow.org/versions/r0.7/tutorials/word2vec/index.html\n",
    "import collections\n",
    "import numpy as np\n",
    "import tensorflow as tf\n",
    "import matplotlib.pyplot as plt\n",
    "%matplotlib inline"
   ]
  },
  {
   "cell_type": "code",
   "execution_count": 22,
   "metadata": {
    "collapsed": false
   },
   "outputs": [
    {
     "name": "stdout",
     "output_type": "stream",
     "text": [
      "Word count [('靑', 10), ('탄핵', 5), ('朴대통령', 4), ('특검', 4), ('사표', 4)]\n",
      "Sample data [8, 7, 3, 74, 14, 12, 1, 66, 80, 88] ['檢', '압박', '특검', '돌입', '내부', '동요', '탄핵', '현실화', '朴', '사면초가']\n",
      "Context pairs [[[8, 3], 7], [[7, 74], 3], [[3, 14], 74], [[74, 12], 14], [[14, 1], 12], [[12, 66], 1], [[1, 80], 66], [[66, 88], 80], [[80, 0], 88], [[88, 44], 0]]\n",
      "skip-gram pairs [[7, 8], [7, 3], [3, 7], [3, 74], [74, 3]]\n",
      "Batches (x, y) ([8, 15, 105], [[6], [0], [71]])\n"
     ]
    }
   ],
   "source": [
    "# Configuration\n",
    "batch_size = 20\n",
    "# Dimension of the embedding vector. Two too small to get\n",
    "# any meaningful embeddings, but let's make it 2 for simple visualization\n",
    "embedding_size = 2\n",
    "num_sampled = 15    # Number of negative examples to sample.\n",
    "\n",
    "plt.rc('font', family='NanumGothic')\n",
    "\n",
    "# Sample sentences\n",
    "sentences = [\"檢 압박 특검 돌입 내부 동요 탄핵 현실화 朴 사면초가\",\n",
    "            \"靑 압박에도 檢 내 갈 길 간다 초강수\",\n",
    "            \"內傷 깊어진 靑 특검 탄핵 대응 흔들 조만간 사표반려\",\n",
    "            \"朴대통령 김현웅 최재경 사표 쥐고 장고 검찰총장 압박\",\n",
    "            \"박지원 靑 검찰총장 압박 의도라면 또 다른 탄핵사유\",\n",
    "            \"우리 장관도 사표 동시 사표 후폭풍속 공직사회 동요\",\n",
    "            \"김현웅 최재경은 왜 동시에 옷을 벗겠다고 했나\",\n",
    "            \"朴대통령 최재경 사표 반려할 듯 靑 항명 아니다\",\n",
    "            \"朴대통령 사정방패 붕괴 檢 수사 깜짝 반전 일어날까\",\n",
    "            \"침몰하는 배 구원투수는 정홍원 김진태 등 거론\",\n",
    "            \"박근혜 정권 내부 붕괴 조짐\",\n",
    "            \"靑 검찰 가교 역할 최재경 양측 충돌 치닫자 한계 느낀듯\",\n",
    "            \"방탄 깨진 청와대 특검 탄핵 무방비\",\n",
    "            \"靑 성형시술 마취 크림 구매 보도에 상처 마취용\",\n",
    "            \"靑 최재경 항명 아니다 사표수리 여부 대통령 판단사항\",\n",
    "            \"靑 朴대통령 탄핵 정족수 채웠다 지적에 아직 그 단계 아니다\",\n",
    "            \"망연자실 청 검찰 공소장에 항의 사퇴 연쇄 붕괴 막기 급급\",\n",
    "            \"문 걸어 잠근 靑 朴의 감정 억울함서 분노로\",\n",
    "            \"청와대 또 중립적 특검 기대 야 대통령은 피의자\",\n",
    "            \"靑 탄핵 속수무책 관망 자중지란 새누리에 방어 기대\"]\n",
    "\n",
    "# sentences to words and count\n",
    "words = \" \".join(sentences).split()\n",
    "count = collections.Counter(words).most_common()\n",
    "print (\"Word count\", count[:5])\n",
    "\n",
    "# Build dictionaries\n",
    "rdic = [i[0] for i in count] #reverse dic, idx -> word\n",
    "dic = {w: i for i, w in enumerate(rdic)} #dic, word -> id\n",
    "voc_size = len(dic)\n",
    "\n",
    "# Make indexed word data\n",
    "data = [dic[word] for word in words]\n",
    "print('Sample data', data[:10], [rdic[t] for t in data[:10]])\n",
    "\n",
    "# Let's make a training data for window size 1 for simplicity\n",
    "# ([the, brown], quick), ([quick, fox], brown), ([brown, jumped], fox), ...\n",
    "cbow_pairs = [];\n",
    "for i in range(1, len(data)-1) :\n",
    "    cbow_pairs.append([[data[i-1], data[i+1]], data[i]]);\n",
    "print('Context pairs', cbow_pairs[:10])\n",
    "\n",
    "# Let's make skip-gram pairs\n",
    "# (quick, the), (quick, brown), (brown, quick), (brown, fox), ...\n",
    "skip_gram_pairs = [];\n",
    "for c in cbow_pairs:\n",
    "    skip_gram_pairs.append([c[1], c[0][0]])\n",
    "    skip_gram_pairs.append([c[1], c[0][1]])\n",
    "print('skip-gram pairs', skip_gram_pairs[:5])\n",
    "\n",
    "def generate_batch(size):\n",
    "    assert size < len(skip_gram_pairs)\n",
    "    x_data=[]\n",
    "    y_data = []\n",
    "    r = np.random.choice(range(len(skip_gram_pairs)), size, replace=False)\n",
    "    for i in r:\n",
    "        x_data.append(skip_gram_pairs[i][0])  # n dim\n",
    "        y_data.append([skip_gram_pairs[i][1]])  # n, 1 dim\n",
    "    return x_data, y_data\n",
    "\n",
    "# generate_batch test\n",
    "print ('Batches (x, y)', generate_batch(3))"
   ]
  },
  {
   "cell_type": "code",
   "execution_count": 23,
   "metadata": {
    "collapsed": true
   },
   "outputs": [],
   "source": [
    "# Input data\n",
    "train_inputs = tf.placeholder(tf.int32, shape=[batch_size])\n",
    "# need to shape [batch_size, 1] for nn.nce_loss\n",
    "train_labels = tf.placeholder(tf.int32, shape=[batch_size, 1])\n",
    "# Ops and variables pinned to the CPU because of missing GPU implementation\n",
    "with tf.device('/gpu:0'):\n",
    "    # Look up embeddings for inputs.\n",
    "    embeddings = tf.Variable(\n",
    "        tf.random_uniform([voc_size, embedding_size], -1.0, 1.0))\n",
    "    embed = tf.nn.embedding_lookup(embeddings, train_inputs) # lookup table\n",
    "\n",
    "# Construct the variables for the NCE loss\n",
    "nce_weights = tf.Variable(\n",
    "    tf.random_uniform([voc_size, embedding_size],-1.0, 1.0))\n",
    "nce_biases = tf.Variable(tf.zeros([voc_size]))\n",
    "\n",
    "# Compute the average NCE loss for the batch.\n",
    "# This does the magic:\n",
    "#   tf.nn.nce_loss(weights, biases, inputs, labels, num_sampled, num_classes ...)\n",
    "# It automatically draws negative samples when we evaluate the loss.\n",
    "loss = tf.reduce_mean(\n",
    "  tf.nn.nce_loss(nce_weights, nce_biases, embed, train_labels,\n",
    "                 num_sampled, voc_size))\n",
    "\n",
    "# Use the adam optimizer\n",
    "train_op = tf.train.AdamOptimizer(1e-1).minimize(loss)"
   ]
  },
  {
   "cell_type": "code",
   "execution_count": 24,
   "metadata": {
    "collapsed": false
   },
   "outputs": [
    {
     "name": "stdout",
     "output_type": "stream",
     "text": [
      "Loss at  0 27.4339\n",
      "Loss at  10 30.0276\n",
      "Loss at  20 20.2793\n",
      "Loss at  30 9.34021\n",
      "Loss at  40 15.2571\n",
      "Loss at  50 12.8016\n",
      "Loss at  60 12.9321\n",
      "Loss at  70 9.98142\n",
      "Loss at  80 4.06319\n",
      "Loss at  90 3.99099\n"
     ]
    },
    {
     "data": {
      "image/png": "[encoded data removed]",
      "text/plain": [
       "<matplotlib.figure.Figure at 0x7f50c44fb748>"
      ]
     },
     "metadata": {},
     "output_type": "display_data"
    }
   ],
   "source": [
    "session_conf = tf.ConfigProto()\n",
    "session_conf.gpu_options.allow_growth = True\n",
    "\n",
    "# Launch the graph in a session\n",
    "with tf.Session(config=session_conf) as sess:\n",
    "    # Initializing all variables\n",
    "    tf.initialize_all_variables().run()\n",
    "\n",
    "    for step in range(100):\n",
    "        batch_inputs, batch_labels = generate_batch(batch_size)\n",
    "        _, loss_val = sess.run([train_op, loss],\n",
    "                feed_dict={train_inputs: batch_inputs, train_labels: batch_labels})\n",
    "        if step % 10 == 0:\n",
    "          print(\"Loss at \", step, loss_val) # Report the loss\n",
    "\n",
    "    # Final embeddings are ready for you to use. Need to normalize for practical use\n",
    "    trained_embeddings = embeddings.eval()\n",
    "\n",
    "# Show word2vec if dim is 2\n",
    "if trained_embeddings.shape[1] == 2:\n",
    "    labels = rdic[:10] # Show top 10 words\n",
    "    for i, label in enumerate(labels):\n",
    "        x, y = trained_embeddings[i,:]\n",
    "        plt.scatter(x, y)\n",
    "        plt.annotate(label, xy=(x, y), xytext=(5, 2),\n",
    "            textcoords='offset points', ha='right', va='bottom')\n",
    "    plt.savefig(\"word2vec.png\")"
   ]
  }
 ],
 "metadata": {
  "kernelspec": {
   "display_name": "Python 3",
   "language": "python",
   "name": "python3"
  },
  "language_info": {
   "codemirror_mode": {
    "name": "ipython",
    "version": 3
   },
   "file_extension": ".py",
   "mimetype": "text/x-python",
   "name": "python",
   "nbconvert_exporter": "python",
   "pygments_lexer": "ipython3",
   "version": "3.5.2"
  }
 },
 "nbformat": 4,
 "nbformat_minor": 1
}
