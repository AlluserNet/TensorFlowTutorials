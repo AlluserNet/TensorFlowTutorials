{
 "cells": [
  {
   "cell_type": "markdown",
   "metadata": {},
   "source": [
    "# TensorBoard"
   ]
  },
  {
   "cell_type": "markdown",
   "metadata": {},
   "source": [
    "After Training the model, run \n",
    "\n",
    "    tensorboard --logdir=path/to/log-directory\n",
    "    \n",
    "Tensorboard provides a good visualization tool for all the variables you like and works on a browser."
   ]
  },
  {
   "cell_type": "code",
   "execution_count": 2,
   "metadata": {
    "collapsed": false
   },
   "outputs": [],
   "source": [
    "import tensorflow as tf\n",
    "import input_data"
   ]
  },
  {
   "cell_type": "code",
   "execution_count": 3,
   "metadata": {
    "collapsed": false
   },
   "outputs": [
    {
     "name": "stdout",
     "output_type": "stream",
     "text": [
      "Succesfully downloaded train-images-idx3-ubyte.gz 9912422 bytes.\n",
      "Extracting MNIST_data/train-images-idx3-ubyte.gz\n"
     ]
    },
    {
     "name": "stderr",
     "output_type": "stream",
     "text": [
      "/usr/lib/python3.5/gzip.py:274: VisibleDeprecationWarning: converting an array with ndim > 0 to an index will result in an error in the future\n",
      "  return self._buffer.read(size)\n",
      "/home/lifefeel/TensorFlowTutorials/input_data.py:42: VisibleDeprecationWarning: converting an array with ndim > 0 to an index will result in an error in the future\n",
      "  data = data.reshape(num_images, rows, cols, 1)\n"
     ]
    },
    {
     "name": "stdout",
     "output_type": "stream",
     "text": [
      "Succesfully downloaded train-labels-idx1-ubyte.gz 28881 bytes.\n",
      "Extracting MNIST_data/train-labels-idx1-ubyte.gz\n",
      "Succesfully downloaded t10k-images-idx3-ubyte.gz 1648877 bytes.\n",
      "Extracting MNIST_data/t10k-images-idx3-ubyte.gz\n",
      "Succesfully downloaded t10k-labels-idx1-ubyte.gz 4542 bytes.\n",
      "Extracting MNIST_data/t10k-labels-idx1-ubyte.gz\n"
     ]
    }
   ],
   "source": [
    "def init_weights(shape, name):\n",
    "    return tf.Variable(tf.random_normal(shape, stddev=0.01), name=name)\n",
    "\n",
    "# This network is the same as the previous one except with an extra hidden layer + dropout\n",
    "def model(X, w_h, w_h2, w_o, p_keep_input, p_keep_hidden):\n",
    "    # Add layer name scopes for better graph visualization\n",
    "    with tf.name_scope(\"layer1\"):\n",
    "        X = tf.nn.dropout(X, p_keep_input)\n",
    "        h = tf.nn.relu(tf.matmul(X, w_h))\n",
    "    with tf.name_scope(\"layer2\"):\n",
    "        h = tf.nn.dropout(h, p_keep_hidden)\n",
    "        h2 = tf.nn.relu(tf.matmul(h, w_h2))\n",
    "    with tf.name_scope(\"layer3\"):\n",
    "        h2 = tf.nn.dropout(h2, p_keep_hidden)\n",
    "        return tf.matmul(h2, w_o)\n",
    "\n",
    "mnist = input_data.read_data_sets(\"MNIST_data/\", one_hot=True)\n",
    "trX, trY, teX, teY = mnist.train.images, mnist.train.labels, mnist.test.images, mnist.test.labels"
   ]
  },
  {
   "cell_type": "code",
   "execution_count": 4,
   "metadata": {
    "collapsed": true
   },
   "outputs": [],
   "source": [
    "X = tf.placeholder(\"float\", [None, 784], name=\"X\")\n",
    "Y = tf.placeholder(\"float\", [None, 10], name=\"Y\")\n",
    "\n",
    "w_h = init_weights([784, 625], \"w_h\")\n",
    "w_h2 = init_weights([625, 625], \"w_h2\")\n",
    "w_o = init_weights([625, 10], \"w_o\")\n",
    "\n",
    "# Add histogram summaries for weights\n",
    "tf.histogram_summary(\"w_h_summ\", w_h)\n",
    "tf.histogram_summary(\"w_h2_summ\", w_h2)\n",
    "tf.histogram_summary(\"w_o_summ\", w_o)\n",
    "\n",
    "p_keep_input = tf.placeholder(\"float\", name=\"p_keep_input\")\n",
    "p_keep_hidden = tf.placeholder(\"float\", name=\"p_keep_hidden\")\n",
    "py_x = model(X, w_h, w_h2, w_o, p_keep_input, p_keep_hidden)\n",
    "\n",
    "with tf.name_scope(\"cost\"):\n",
    "    cost = tf.reduce_mean(tf.nn.softmax_cross_entropy_with_logits(py_x, Y))\n",
    "    train_op = tf.train.RMSPropOptimizer(0.001, 0.9).minimize(cost)\n",
    "    # Add scalar summary for cost\n",
    "    tf.scalar_summary(\"cost\", cost)\n",
    "\n",
    "with tf.name_scope(\"accuracy\"):\n",
    "    correct_pred = tf.equal(tf.argmax(Y, 1), tf.argmax(py_x, 1)) # Count correct predictions\n",
    "    acc_op = tf.reduce_mean(tf.cast(correct_pred, \"float\")) # Cast boolean to float to average\n",
    "    # Add scalar summary for accuracy\n",
    "    tf.scalar_summary(\"accuracy\", acc_op)"
   ]
  },
  {
   "cell_type": "code",
   "execution_count": 5,
   "metadata": {
    "collapsed": false
   },
   "outputs": [
    {
     "name": "stdout",
     "output_type": "stream",
     "text": [
      "0 0.9284\n",
      "1 0.9609\n",
      "2 0.9724\n",
      "3 0.974\n",
      "4 0.9763\n",
      "5 0.977\n",
      "6 0.9781\n",
      "7 0.9802\n",
      "8 0.9788\n",
      "9 0.9783\n",
      "10 0.9786\n",
      "11 0.9784\n",
      "12 0.9813\n",
      "13 0.9807\n",
      "14 0.9808\n",
      "15 0.9806\n",
      "16 0.9816\n",
      "17 0.9814\n",
      "18 0.9827\n",
      "19 0.9818\n",
      "20 0.9829\n",
      "21 0.982\n",
      "22 0.983\n",
      "23 0.9821\n",
      "24 0.9833\n",
      "25 0.9836\n",
      "26 0.9832\n",
      "27 0.9831\n",
      "28 0.9836\n",
      "29 0.9824\n",
      "30 0.9831\n",
      "31 0.9833\n",
      "32 0.9817\n",
      "33 0.9838\n",
      "34 0.9836\n",
      "35 0.9839\n",
      "36 0.9831\n",
      "37 0.9828\n",
      "38 0.9837\n",
      "39 0.983\n",
      "40 0.9826\n",
      "41 0.9831\n",
      "42 0.9837\n",
      "43 0.9843\n",
      "44 0.9837\n",
      "45 0.984\n",
      "46 0.9837\n",
      "47 0.9843\n",
      "48 0.9839\n",
      "49 0.9846\n",
      "50 0.9843\n",
      "51 0.9843\n",
      "52 0.9834\n",
      "53 0.9855\n",
      "54 0.9839\n",
      "55 0.9848\n",
      "56 0.9838\n",
      "57 0.9844\n",
      "58 0.9828\n",
      "59 0.9838\n",
      "60 0.9844\n",
      "61 0.9828\n",
      "62 0.9839\n",
      "63 0.9842\n",
      "64 0.9841\n",
      "65 0.9847\n",
      "66 0.984\n",
      "67 0.9847\n",
      "68 0.9833\n",
      "69 0.9841\n",
      "70 0.9846\n",
      "71 0.9852\n",
      "72 0.9845\n",
      "73 0.9852\n",
      "74 0.985\n",
      "75 0.9848\n",
      "76 0.9845\n",
      "77 0.9853\n",
      "78 0.9837\n",
      "79 0.984\n",
      "80 0.985\n",
      "81 0.9845\n",
      "82 0.9842\n",
      "83 0.9846\n",
      "84 0.9845\n",
      "85 0.9846\n",
      "86 0.9853\n",
      "87 0.985\n",
      "88 0.9851\n",
      "89 0.9847\n",
      "90 0.9841\n",
      "91 0.9844\n",
      "92 0.9844\n",
      "93 0.9861\n",
      "94 0.984\n",
      "95 0.9842\n",
      "96 0.986\n",
      "97 0.9854\n",
      "98 0.9851\n",
      "99 0.9861\n"
     ]
    }
   ],
   "source": [
    "with tf.Session() as sess:\n",
    "    # create a log writer. run 'tensorboard --logdir=./logs/nn_logs'\n",
    "    writer = tf.train.SummaryWriter(\"./logs/nn_logs\", sess.graph) # for 0.8\n",
    "    merged = tf.merge_all_summaries()\n",
    "\n",
    "    # you need to initialize all variables\n",
    "    tf.initialize_all_variables().run()\n",
    "\n",
    "    for i in range(100):\n",
    "        for start, end in zip(range(0, len(trX), 128), range(128, len(trX)+1, 128)):\n",
    "            sess.run(train_op, feed_dict={X: trX[start:end], Y: trY[start:end],\n",
    "                                          p_keep_input: 0.8, p_keep_hidden: 0.5})\n",
    "        summary, acc = sess.run([merged, acc_op], feed_dict={X: teX, Y: teY,\n",
    "                                          p_keep_input: 1.0, p_keep_hidden: 1.0})\n",
    "        writer.add_summary(summary, i)  # Write summary\n",
    "        print(i, acc)                   # Report the accuracy"
   ]
  }
 ],
 "metadata": {
  "kernelspec": {
   "display_name": "Python 3",
   "language": "python",
   "name": "python3"
  },
  "language_info": {
   "codemirror_mode": {
    "name": "ipython",
    "version": 3
   },
   "file_extension": ".py",
   "mimetype": "text/x-python",
   "name": "python",
   "nbconvert_exporter": "python",
   "pygments_lexer": "ipython3",
   "version": "3.5.2"
  }
 },
 "nbformat": 4,
 "nbformat_minor": 1
}
