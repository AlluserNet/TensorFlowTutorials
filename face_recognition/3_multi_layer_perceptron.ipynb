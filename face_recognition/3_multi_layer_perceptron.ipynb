{
 "cells": [
  {
   "cell_type": "markdown",
   "metadata": {},
   "source": [
    "# MULTI-LAYER PERCEPTRON\n",
    "## FOR FACE RECOGNITION"
   ]
  },
  {
   "cell_type": "code",
   "execution_count": 1,
   "metadata": {
    "collapsed": false
   },
   "outputs": [
    {
     "name": "stdout",
     "output_type": "stream",
     "text": [
      "Packages loaded\n"
     ]
    }
   ],
   "source": [
    "import os\n",
    "import numpy as np\n",
    "import tensorflow as tf\n",
    "import matplotlib.pyplot as plt\n",
    "%matplotlib inline  \n",
    "print (\"Packages loaded\")"
   ]
  },
  {
   "cell_type": "markdown",
   "metadata": {},
   "source": [
    "# LOAD DATA"
   ]
  },
  {
   "cell_type": "code",
   "execution_count": 2,
   "metadata": {
    "collapsed": false
   },
   "outputs": [
    {
     "name": "stdout",
     "output_type": "stream",
     "text": [
      "['imgsize', 'trainimg', 'categories', 'trainlabel', 'testlabel', 'testimg']\n",
      "10042 TRAIN IMAGES\n",
      "2511 TEST IMAGES\n",
      "2304 DIMENSIONAL INPUT\n",
      "7 CLASSES\n"
     ]
    }
   ],
   "source": [
    "# LOAD DATA\n",
    "cwd = os.getcwd()\n",
    "loadpath = cwd + \"/data.npz\"\n",
    "l = np.load(loadpath)\n",
    "print (l.files)\n",
    "\n",
    "# PARSE LOADED DATA\n",
    "trainimg   = l['trainimg']\n",
    "trainlabel = l['trainlabel']\n",
    "testimg    = l['testimg']\n",
    "testlabel  = l['testlabel']\n",
    "ntrain = trainimg.shape[0]\n",
    "nclass = trainlabel.shape[1]\n",
    "dim    = trainimg.shape[1]\n",
    "ntest  = testimg.shape[0]\n",
    "print (\"%d TRAIN IMAGES\" % (ntrain))\n",
    "print (\"%d TEST IMAGES\" % (ntest))\n",
    "print (\"%d DIMENSIONAL INPUT\" % (dim))\n",
    "print (\"%d CLASSES\" % (nclass))"
   ]
  },
  {
   "cell_type": "markdown",
   "metadata": {},
   "source": [
    "# DEFINE MODEL"
   ]
  },
  {
   "cell_type": "code",
   "execution_count": 3,
   "metadata": {
    "collapsed": false
   },
   "outputs": [
    {
     "name": "stdout",
     "output_type": "stream",
     "text": [
      "MULTILAYER PERCEPTRON MODEL READY\n"
     ]
    }
   ],
   "source": [
    "tf.set_random_seed(0)\n",
    "\n",
    "# MULTILAYER PERCEPTRON MODEL\n",
    "n_input    = dim    # INPUT LAYER DIMENSION\n",
    "n_hid1     = 512    # 1ST HIDDEN LAYER DIMENSION\n",
    "n_hid2     = 256    # 2ND HIDDEN LATER DIMENSION\n",
    "n_output   = nclass # OUTPUT LAYER DIMENSION\n",
    "x = tf.placeholder(\"float\", [None, dim]) \n",
    "y = tf.placeholder(\"float\", [None, nclass]) \n",
    "std = 0.1 \n",
    "W = {\n",
    "    'h1': tf.Variable(tf.random_normal([n_input, n_hid1], stddev=std)),\n",
    "    'h2': tf.Variable(tf.random_normal([n_hid1, n_hid2], stddev=std)),\n",
    "    'out': tf.Variable(tf.random_normal([n_hid2, n_output], stddev=std))\n",
    "}\n",
    "b = {\n",
    "    'b1': tf.Variable(tf.random_normal([n_hid1])),\n",
    "    'b2': tf.Variable(tf.random_normal([n_hid2])),\n",
    "    'out': tf.Variable(tf.random_normal([n_output]))\n",
    "}\n",
    "def multilayer_perceptron(_x, _W, _b):\n",
    "    layer_1 = tf.nn.relu(tf.add(tf.matmul(_x, _W['h1']), _b['b1'])) \n",
    "    layer_2 = tf.nn.relu(tf.add(tf.matmul(layer_1, _W['h2']), _b['b2']))\n",
    "    return tf.matmul(layer_2, _W['out']) + _b['out']\n",
    "print (\"MULTILAYER PERCEPTRON MODEL READY\")"
   ]
  },
  {
   "cell_type": "markdown",
   "metadata": {},
   "source": [
    "# DEFINE FUNCTIONS "
   ]
  },
  {
   "cell_type": "code",
   "execution_count": 4,
   "metadata": {
    "collapsed": false
   },
   "outputs": [
    {
     "name": "stdout",
     "output_type": "stream",
     "text": [
      "WARNING:tensorflow:From <ipython-input-4-082fb5963ae9>:11 in <module>.: initialize_all_variables (from tensorflow.python.ops.variables) is deprecated and will be removed after 2017-03-02.\n",
      "Instructions for updating:\n",
      "Use `tf.global_variables_initializer` instead.\n",
      "FUNCTIONS READY\n"
     ]
    }
   ],
   "source": [
    "learning_rate = 0.001\n",
    "pred = multilayer_perceptron(x, W, b)\n",
    "ce_cost = tf.reduce_mean(tf.nn.softmax_cross_entropy_with_logits(pred, y)) \n",
    "WEIGHT_DECAY_FACTOR = 0.001 \n",
    "l2_loss = tf.add_n([tf.nn.l2_loss(v) \n",
    "            for v in tf.trainable_variables()])\n",
    "cost = ce_cost + WEIGHT_DECAY_FACTOR*l2_loss\n",
    "optm = tf.train.AdamOptimizer(learning_rate).minimize(cost) \n",
    "corr = tf.equal(tf.argmax(pred, 1), tf.argmax(y, 1))    \n",
    "accr = tf.reduce_mean(tf.cast(corr, tf.float32))\n",
    "init = tf.initialize_all_variables()\n",
    "print (\"FUNCTIONS READY\")"
   ]
  },
  {
   "cell_type": "markdown",
   "metadata": {},
   "source": [
    "# RUN"
   ]
  },
  {
   "cell_type": "code",
   "execution_count": 5,
   "metadata": {
    "collapsed": false
   },
   "outputs": [
    {
     "name": "stdout",
     "output_type": "stream",
     "text": [
      "Epoch: 000/400 cost: 10.313727379\n",
      " TRAIN ACCURACY: 0.210\n",
      " TEST ACCURACY: 0.217\n",
      "Epoch: 020/400 cost: 4.126761895\n",
      " TRAIN ACCURACY: 0.476\n",
      " TEST ACCURACY: 0.371\n",
      "Epoch: 040/400 cost: 2.468688923\n",
      " TRAIN ACCURACY: 0.713\n",
      " TEST ACCURACY: 0.511\n",
      "Epoch: 060/400 cost: 1.626562846\n",
      " TRAIN ACCURACY: 0.863\n",
      " TEST ACCURACY: 0.605\n",
      "Epoch: 080/400 cost: 1.175332123\n",
      " TRAIN ACCURACY: 0.837\n",
      " TEST ACCURACY: 0.585\n",
      "Epoch: 100/400 cost: 0.976072341\n",
      " TRAIN ACCURACY: 0.960\n",
      " TEST ACCURACY: 0.688\n",
      "Epoch: 120/400 cost: 1.043804206\n",
      " TRAIN ACCURACY: 0.891\n",
      " TEST ACCURACY: 0.628\n",
      "Epoch: 140/400 cost: 0.773103517\n",
      " TRAIN ACCURACY: 0.979\n",
      " TEST ACCURACY: 0.699\n",
      "Epoch: 160/400 cost: 0.615308864\n",
      " TRAIN ACCURACY: 0.997\n",
      " TEST ACCURACY: 0.709\n",
      "Epoch: 180/400 cost: 0.580374952\n",
      " TRAIN ACCURACY: 0.989\n",
      " TEST ACCURACY: 0.709\n",
      "Epoch: 200/400 cost: 0.599490422\n",
      " TRAIN ACCURACY: 0.965\n",
      " TEST ACCURACY: 0.682\n",
      "Epoch: 220/400 cost: 0.552516124\n",
      " TRAIN ACCURACY: 0.960\n",
      " TEST ACCURACY: 0.679\n",
      "Epoch: 240/400 cost: 0.466565380\n",
      " TRAIN ACCURACY: 0.997\n",
      " TEST ACCURACY: 0.710\n",
      "Epoch: 260/400 cost: 0.442096338\n",
      " TRAIN ACCURACY: 0.998\n",
      " TEST ACCURACY: 0.706\n",
      "Epoch: 280/400 cost: 0.450110036\n",
      " TRAIN ACCURACY: 0.984\n",
      " TEST ACCURACY: 0.703\n",
      "Epoch: 300/400 cost: 1.433525497\n",
      " TRAIN ACCURACY: 0.687\n",
      " TEST ACCURACY: 0.510\n",
      "Epoch: 320/400 cost: 0.466473106\n",
      " TRAIN ACCURACY: 0.996\n",
      " TEST ACCURACY: 0.711\n",
      "Epoch: 340/400 cost: 0.511299074\n",
      " TRAIN ACCURACY: 0.956\n",
      " TEST ACCURACY: 0.664\n",
      "Epoch: 360/400 cost: 0.433716313\n",
      " TRAIN ACCURACY: 0.978\n",
      " TEST ACCURACY: 0.692\n",
      "Epoch: 380/400 cost: 0.370814969\n",
      " TRAIN ACCURACY: 0.994\n",
      " TEST ACCURACY: 0.715\n",
      "Epoch: 399/400 cost: 0.367484829\n",
      " TRAIN ACCURACY: 0.999\n",
      " TEST ACCURACY: 0.717\n",
      "OPTIMIZATION FINISHED\n"
     ]
    }
   ],
   "source": [
    "# PARAMETERS\n",
    "batch_size      = 256\n",
    "display_step    = 20\n",
    "training_epochs = 400\n",
    "num_batch = int(ntrain/batch_size)+1\n",
    "\n",
    "session_conf = tf.ConfigProto()\n",
    "session_conf.gpu_options.allow_growth = True\n",
    "\n",
    "# LAUNCH THE GRAPH\n",
    "sess = tf.Session(config=session_conf)\n",
    "sess.run(init)\n",
    "for epoch in range(training_epochs):\n",
    "    avg_cost = 0.\n",
    "    randpermlist = np.random.permutation(ntrain)\n",
    "    for i in range(num_batch): \n",
    "        randidx  = randpermlist[i*batch_size:min((i+1)*batch_size, ntrain-1)]\n",
    "        batch_xs = trainimg[randidx, :]\n",
    "        batch_ys = trainlabel[randidx, :]                \n",
    "        feeds    = {x: batch_xs, y: batch_ys}\n",
    "        # OPTIMIZE VARIABLES\n",
    "        sess.run(optm, feed_dict=feeds)\n",
    "        # COMPUTE LOSS\n",
    "        avg_cost += sess.run(cost, feed_dict=feeds)/num_batch\n",
    "\n",
    "    # PRINT CURRENT STATUS\n",
    "    if epoch % display_step == 0 or epoch == training_epochs-1:\n",
    "        print (\"Epoch: %03d/%03d cost: %.9f\" % \n",
    "               (epoch, training_epochs, avg_cost))\n",
    "        feeds = {x: trainimg, y: trainlabel}\n",
    "        train_acc = sess.run(accr, feed_dict=feeds)\n",
    "        feeds = {x: testimg, y: testlabel}\n",
    "        test_acc = sess.run(accr, feed_dict=feeds)\n",
    "        print (\" TRAIN ACCURACY: %.3f\" % (train_acc))\n",
    "        print (\" TEST ACCURACY: %.3f\" % (test_acc))\n",
    "print (\"OPTIMIZATION FINISHED\")"
   ]
  }
 ],
 "metadata": {
  "kernelspec": {
   "display_name": "Python 3",
   "language": "python",
   "name": "python3"
  },
  "language_info": {
   "codemirror_mode": {
    "name": "ipython",
    "version": 3
   },
   "file_extension": ".py",
   "mimetype": "text/x-python",
   "name": "python",
   "nbconvert_exporter": "python",
   "pygments_lexer": "ipython3",
   "version": "3.5.2"
  }
 },
 "nbformat": 4,
 "nbformat_minor": 0
}
